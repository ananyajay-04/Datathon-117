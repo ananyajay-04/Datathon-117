{
 "cells": [
  {
   "cell_type": "markdown",
   "id": "8194f295-2cfb-46f1-bcbf-fcc4672e7dba",
   "metadata": {},
   "source": [
    "# Datathon_MODEL"
   ]
  },
  {
   "cell_type": "code",
   "execution_count": 2,
   "id": "66c02fdc-ba30-4bb1-8ba2-09511b96de4f",
   "metadata": {},
   "outputs": [
    {
     "name": "stdout",
     "output_type": "stream",
     "text": [
      "Pipeline(steps=[('imputer', SimpleImputer(strategy='median')),\n",
      "                ('gb',\n",
      "                 GradientBoostingClassifier(learning_rate=0.05,\n",
      "                                            n_estimators=300,\n",
      "                                            random_state=42))])\n"
     ]
    }
   ],
   "source": [
    "import joblib\n",
    "\n",
    "# Load your trained model\n",
    "model = joblib.load('final_gradient_boosting_model.pkl')\n",
    "\n",
    "# (Optional) Verify it's loaded correctly\n",
    "print(model)\n"
   ]
  },
  {
   "cell_type": "markdown",
   "id": "d657c366-7872-435a-827f-52c877cfb8cc",
   "metadata": {},
   "source": [
    "## This model can be used to predict results, export results or i=be integrated into an app/dashboard. "
   ]
  }
 ],
 "metadata": {
  "kernelspec": {
   "display_name": "Python 3 (ipykernel)",
   "language": "python",
   "name": "python3"
  },
  "language_info": {
   "codemirror_mode": {
    "name": "ipython",
    "version": 3
   },
   "file_extension": ".py",
   "mimetype": "text/x-python",
   "name": "python",
   "nbconvert_exporter": "python",
   "pygments_lexer": "ipython3",
   "version": "3.12.7"
  }
 },
 "nbformat": 4,
 "nbformat_minor": 5
}
